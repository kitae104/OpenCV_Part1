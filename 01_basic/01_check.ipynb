{
 "cells": [
  {
   "cell_type": "code",
   "execution_count": 1,
   "metadata": {},
   "outputs": [],
   "source": [
    "import cv2\n",
    "import numpy as np"
   ]
  },
  {
   "cell_type": "code",
   "execution_count": 2,
   "metadata": {},
   "outputs": [
    {
     "name": "stdout",
     "output_type": "stream",
     "text": [
      "OpenCV version: 4.8.0\n"
     ]
    }
   ],
   "source": [
    "print(\"OpenCV version:\", cv2.__version__)   # 버전 확인"
   ]
  },
  {
   "cell_type": "code",
   "execution_count": 3,
   "metadata": {},
   "outputs": [],
   "source": [
<<<<<<< HEAD
    "img = cv2.imread(\"../images/JAP_Logo.png\")      # 이미지 읽어오기 \n",
=======
    "img = cv2.imread(\"../images/JAP_Logo.png\")      # 이미지 읽기\n",
>>>>>>> ac5ce8a4335c401cafec8773edc1f253503a9dcb
    "gray = cv2.cvtColor(img, cv2.COLOR_BGR2GRAY)    # 회색으로 변경하기 \n",
    "\n",
    "cv2.imshow(\"image\", img)                        # 이미지 보이기 \n",
    "cv2.imshow(\"image-gray\", gray)\n",
    "\n",
    "cv2.waitKey(0)\n",
    "cv2.destroyAllWindows()"
   ]
  }
 ],
 "metadata": {
  "kernelspec": {
   "display_name": "Python 3",
   "language": "python",
   "name": "python3"
  },
  "language_info": {
   "codemirror_mode": {
    "name": "ipython",
    "version": 3
   },
   "file_extension": ".py",
   "mimetype": "text/x-python",
   "name": "python",
   "nbconvert_exporter": "python",
   "pygments_lexer": "ipython3",
   "version": "3.11.0"
  }
 },
 "nbformat": 4,
 "nbformat_minor": 2
}
