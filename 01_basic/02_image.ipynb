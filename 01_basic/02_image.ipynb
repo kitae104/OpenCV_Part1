{
 "cells": [
  {
   "cell_type": "code",
   "execution_count": 17,
   "metadata": {},
   "outputs": [
    {
     "name": "stdout",
     "output_type": "stream",
     "text": [
      "(331, 219, 3)\n",
      "217467\n",
      "width: 219\n",
      "height: 331\n",
      "channels: 3\n",
      "Red : 255, Green : 255, Blue : 255\n"
     ]
    }
   ],
   "source": [
    "import cv2\n",
    "\n",
    "img = cv2.imread('../images/naruto.png')\n",
    "print(img.shape)\n",
    "print(img.size)\n",
    "print(f\"width: {img.shape[1]}\")\n",
    "print(f\"height: {img.shape[0]}\")\n",
    "print(f\"channels: {img.shape[2]}\")\n",
    "\n",
    "(height, width) = img.shape[:2]\n",
    "center = (width // 2, height // 2)\n",
    "\n",
    "cv2.imshow('image', img)\n",
    "\n",
    "(b, g, r) = img[0, 0]   # 순서 중요!\n",
    "print(f\"Red : {r}, Green : {g}, Blue : {b}\")\n",
    "\n",
    "# 이미지의 특정 부분을 추출 \n",
    "dot = img[50:100, 50:100]\n",
    "\n",
    "# 이미지의 특정 부분을 Red로 변경\n",
    "img[50:100, 50:100] = (0, 0, 255)\n",
    "cv2.rectangle(img, (150, 50), (200, 100), (0, 255, 0), 5) # 사각형 그리기 Green으로\n",
    "cv2.circle(img, (125, 175), 25, (0, 255, 255), -1) # 원 그리기 Yellow로\n",
    "cv2.line(img, (0, 0), (150, 150), (255, 0, 0), 5) # 선 그리기 Blue로\n",
    "cv2.putText(img, \"Naruto\", (50, 50), cv2.FONT_HERSHEY_SIMPLEX, 1, (0, 0, 0), 2) # 글자 쓰기\n",
    "cv2.imshow(\"image-draw\", img)\n",
    "\n",
    "cv2.waitKey(0)\n",
    "cv2.destroyAllWindows()"
   ]
  }
 ],
 "metadata": {
  "kernelspec": {
   "display_name": "Python 3",
   "language": "python",
   "name": "python3"
  },
  "language_info": {
   "codemirror_mode": {
    "name": "ipython",
    "version": 3
   },
   "file_extension": ".py",
   "mimetype": "text/x-python",
   "name": "python",
   "nbconvert_exporter": "python",
   "pygments_lexer": "ipython3",
   "version": "3.11.6"
  }
 },
 "nbformat": 4,
 "nbformat_minor": 2
}
