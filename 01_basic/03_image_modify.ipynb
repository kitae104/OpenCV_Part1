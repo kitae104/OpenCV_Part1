{
 "cells": [
  {
   "cell_type": "code",
   "execution_count": 8,
   "metadata": {},
   "outputs": [
    {
     "name": "stdout",
     "output_type": "stream",
     "text": [
      "(331, 219, 3)\n",
      "217467\n",
      "width: 219\n",
      "height: 331\n",
      "channels: 3\n"
     ]
    }
   ],
   "source": [
    "import cv2\n",
    "import numpy as np\n",
    "\n",
    "img = cv2.imread('../images/naruto.png')\n",
    "print(img.shape)\n",
    "print(img.size)\n",
    "print(f\"width: {img.shape[1]}\")\n",
    "print(f\"height: {img.shape[0]}\")\n",
    "print(f\"channels: {img.shape[2]}\")\n",
    "\n",
    "(height, width) = img.shape[:2]           # 이미지의 높이와 너비를 가져옴\n",
    "center = (width // 2, height // 2)        # 이미지의 중심 좌표를 구함\n",
    "\n",
    "cv2.imshow('image', img)\n",
    "\n",
    "# 이미지 이동 \n",
    "move = np.float32([[1, 0, 100], [0, 1, 100]])       # 이미지를 이동시키기 위한 행렬\n",
    "moved = cv2.warpAffine(img, move, (width, height))  # 이미지를 이동시키는 함수\n",
    "cv2.imshow('moved', moved)\n",
    "\n",
    "# 이미지 회전\n",
    "move = cv2.getRotationMatrix2D(center, 45, 1.0)    # 이미지를 시계 반대 방향으로 45도 회전시키기 위한 행렬\n",
    "rotated = cv2.warpAffine(img, move, (width, height))  # 이미지를 회전시키는 함수\n",
    "cv2.imshow('rotated', rotated)\n",
    "\n",
    "# 이미지 크기 변경 \n",
    "ratio = 200.0 / width                          # 이미지의 비율을 계산\n",
    "dimension = (200, int(height * ratio))         # 이미지의 크기를 변경할 새로운 너비와 높이를 계산\n",
    "resized = cv2.resize(img, dimension, interpolation = cv2.INTER_AREA)  # 이미지 크기를 변경하는 함수\n",
    "cv2.imshow('resized', resized)\n",
    "\n",
    "# 이미지 좌우 반전\n",
    "flipped = cv2.flip(img, 1)                     # 이미지를 좌우 반전시키는 함수\n",
    "cv2.imshow('flipped', flipped)\n",
    "\n",
    "cv2.waitKey(0)\n",
    "cv2.destroyAllWindows()"
   ]
  }
 ],
 "metadata": {
  "kernelspec": {
   "display_name": "Python 3",
   "language": "python",
   "name": "python3"
  },
  "language_info": {
   "codemirror_mode": {
    "name": "ipython",
    "version": 3
   },
   "file_extension": ".py",
   "mimetype": "text/x-python",
   "name": "python",
   "nbconvert_exporter": "python",
   "pygments_lexer": "ipython3",
   "version": "3.11.6"
  }
 },
 "nbformat": 4,
 "nbformat_minor": 2
}
