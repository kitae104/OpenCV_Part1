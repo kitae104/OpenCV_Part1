{
 "cells": [
  {
   "cell_type": "code",
   "execution_count": 1,
   "metadata": {},
   "outputs": [
    {
     "name": "stdout",
     "output_type": "stream",
     "text": [
      "(331, 219, 3)\n",
      "217467\n",
      "width: 219\n",
      "height: 331\n",
      "channels: 3\n"
     ]
    }
   ],
   "source": [
    "import cv2\n",
    "import numpy as np\n",
    "\n",
    "# 이미지의 크기, 채널, 픽셀 수 등을 확인\n",
    "img = cv2.imread('../images/naruto.png')\n",
    "print(img.shape)\n",
    "print(img.size)\n",
    "print(f\"width: {img.shape[1]}\")\n",
    "print(f\"height: {img.shape[0]}\")\n",
    "print(f\"channels: {img.shape[2]}\")\n",
    "\n",
    "(height, width) = img.shape[:2]           # 이미지의 높이와 너비를 가져옴\n",
    "center = (width // 2, height // 2)        # 이미지의 중심 좌표를 구함\n",
    "\n",
    "cv2.imshow('image', img)\n",
    "\n",
    "# 이미지 마스크 \n",
    "mask = np.zeros(img.shape[:2], dtype='uint8')         # 마스크 생성(검정색을 채움)\n",
    "cv2.circle(mask, center, 100, (255, 255, 255), -1)    # 원 모양의 마스크를 그림\n",
    "cv2.imshow('mask', mask)\n",
    "\n",
    "# 이미지와 마스크를 비트 연산함\n",
    "masked = cv2.bitwise_and(img, img, mask=mask)         # 이미지에 마스크를 적용(공통된 부분만 남김)\n",
    "cv2.imshow('masked', masked)        \n",
    "\n",
    "cv2.waitKey(0)\n",
    "cv2.destroyAllWindows()"
   ]
  }
 ],
 "metadata": {
  "kernelspec": {
   "display_name": "Python 3",
   "language": "python",
   "name": "python3"
  },
  "language_info": {
   "codemirror_mode": {
    "name": "ipython",
    "version": 3
   },
   "file_extension": ".py",
   "mimetype": "text/x-python",
   "name": "python",
   "nbconvert_exporter": "python",
   "pygments_lexer": "ipython3",
   "version": "3.11.6"
  }
 },
 "nbformat": 4,
 "nbformat_minor": 2
}
