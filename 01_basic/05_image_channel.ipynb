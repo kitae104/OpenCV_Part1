{
 "cells": [
  {
   "cell_type": "code",
   "execution_count": 1,
   "metadata": {},
   "outputs": [
    {
     "name": "stdout",
     "output_type": "stream",
     "text": [
      "(331, 219, 3)\n",
      "217467\n",
      "width: 219\n",
      "height: 331\n",
      "channels: 3\n"
     ]
    }
   ],
   "source": [
    "import cv2\n",
    "import numpy as np\n",
    "\n",
    "img = cv2.imread('../images/naruto.png')\n",
    "print(img.shape)\n",
    "print(img.size)\n",
    "print(f\"width: {img.shape[1]}\")\n",
    "print(f\"height: {img.shape[0]}\")\n",
    "print(f\"channels: {img.shape[2]}\")\n",
    "\n",
    "(height, width) = img.shape[:2]           # 이미지의 높이와 너비를 가져옴\n",
    "center = (width // 2, height // 2)        # 이미지의 중심 좌표를 구함\n",
    "\n",
    "cv2.imshow('image', img)\n",
    "\n",
    "# 이미지 채널 분리\n",
    "(blue, green, red) = cv2.split(img)    # 이미지의 채널을 분리함(파랑, 초록, 빨강 순서로 분리됨)\n",
    "cv2.imshow('blue', blue)\n",
    "cv2.imshow('green', green)\n",
    "cv2.imshow('red', red)\n",
    "cv2.waitKey(0)                        # 아무 키나 누르면 종료\n",
    "\n",
    "zeros = np.zeros(img.shape[:2], dtype=\"uint8\")    # 이미지의 높이와 너비를 가지는 영행렬을 생성\n",
    "cv2.imshow('Red', cv2.merge([zeros, zeros, red])) # 빨간색 채널만 표시\n",
    "cv2.imshow('Green', cv2.merge([zeros, green, zeros])) # 초록색 채널만 표시\n",
    "cv2.imshow('Blue', cv2.merge([blue, zeros, zeros])) # 파란색 채널만 표시\n",
    "cv2.waitKey(0)                        # 아무 키나 누르면 종료\n",
    "\n",
    "# 이미지 필터 \n",
    "gray = cv2.cvtColor(img, cv2.COLOR_BGR2GRAY)  # 이미지를 흑백으로 변환\n",
    "cv2.imshow('gray', gray)\n",
    "\n",
    "hsv = cv2.cvtColor(img, cv2.COLOR_BGR2HSV)    # 이미지를 HSV로 변환\n",
    "cv2.imshow('hsv', hsv)\n",
    "\n",
    "lab = cv2.cvtColor(img, cv2.COLOR_BGR2LAB)    # 이미지를 LAB로 변환\n",
    "cv2.imshow('lab', lab)\n",
    "cv2.waitKey(0)  \n",
    "\n",
    "# 이미지 머지 \n",
    "BGR = cv2.merge([blue, green, red])          # 이미지의 채널을 합침\n",
    "cv2.imshow('BGR', BGR)\n",
    "\n",
    "cv2.waitKey(0)\n",
    "cv2.destroyAllWindows()"
   ]
  }
 ],
 "metadata": {
  "kernelspec": {
   "display_name": "Python 3",
   "language": "python",
   "name": "python3"
  },
  "language_info": {
   "codemirror_mode": {
    "name": "ipython",
    "version": 3
   },
   "file_extension": ".py",
   "mimetype": "text/x-python",
   "name": "python",
   "nbconvert_exporter": "python",
   "pygments_lexer": "ipython3",
   "version": "3.11.6"
  }
 },
 "nbformat": 4,
 "nbformat_minor": 2
}
