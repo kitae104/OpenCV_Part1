{
 "cells": [
  {
   "cell_type": "code",
   "execution_count": 16,
   "metadata": {},
   "outputs": [],
   "source": [
    "import cv2\n",
    "import numpy as np"
   ]
  },
  {
   "cell_type": "code",
   "execution_count": 17,
   "metadata": {},
   "outputs": [],
   "source": [
    "def detectAndDisplay(frame):\n",
    "  frame_gray = cv2.cvtColor(frame, cv2.COLOR_BGR2GRAY)    # 회색으로 변환\n",
    "  frame_gray = cv2.equalizeHist(frame_gray)               # 히스토그램 평활화\n",
    "  \n",
    "  # 얼굴 검출\n",
    "  faces = face_cascade.detectMultiScale(frame_gray)       # 얼굴 검출\n",
    "  \n",
    "  for (x,y,w,h) in faces:\n",
    "    center = (x + w//2, y + h//2)              # 얼굴 중심 좌표   \n",
    "    frame = cv2.rectangle(frame, (x, y), (x + w, y + h), (0, 255, 0), 4)  # 얼굴 영역에 초록색 사각형 그리기\n",
    "    faceROI = frame_gray[y:y+h, x:x+w]        # 얼굴 영역 추출\n",
    "    \n",
    "    # 각 얼굴에 대해 눈 검출\n",
    "    eyes = eyes_cascade.detectMultiScale(faceROI)\n",
    "    for (x2, y2, w2, h2) in eyes:\n",
    "      eye_center = (x + x2 + w2//2, y + y2 + h2//2)   # 눈 중심 좌표\n",
    "      radius = int(round((w2 + h2)*0.25))             # 눈 반지름\n",
    "      frame = cv2.circle(frame, eye_center, radius, (255, 0, 0), 4)  # 눈 중심에 파란색 원 그리기\n",
    "    cv2.imshow('Capture - Face detection', frame)     # 얼굴 및 눈 검출 결과 화면 출력"
   ]
  },
  {
   "cell_type": "code",
   "execution_count": 18,
   "metadata": {},
   "outputs": [
    {
     "name": "stdout",
     "output_type": "stream",
     "text": [
      "width: 244 pixels\n",
      "height: 206 pixels\n",
      "channels: 3\n"
     ]
    }
   ],
   "source": [
    "img = cv2.imread('../images/marathon_02.jpg')\n",
    "print(\"width: {} pixels\".format(img.shape[1]))\n",
    "print(\"height: {} pixels\".format(img.shape[0]))\n",
    "print(\"channels: {}\".format(img.shape[2]))\n",
    "\n",
    "(height, width) = img.shape[:2]     # 높이, 너비, 채널을 가져옴\n",
    "\n",
    "cv2.imshow('Image', img)"
   ]
  },
  {
   "cell_type": "code",
   "execution_count": 19,
   "metadata": {},
   "outputs": [],
   "source": [
    "face_cascade_name = '../data/haarcascades/haarcascade_frontalface_alt.xml'\n",
    "eyes_cascade_name = '../data/haarcascades/haarcascade_eye_tree_eyeglasses.xml'\n",
    "\n",
    "face_cascade = cv2.CascadeClassifier()\n",
    "eyes_cascade = cv2.CascadeClassifier()\n",
    "\n",
    "if not face_cascade.load(cv2.samples.findFile(face_cascade_name)):\n",
    "  print('--(!)Error loading face cascade')\n",
    "  exit(0)\n",
    "  \n",
    "if not eyes_cascade.load(cv2.samples.findFile(eyes_cascade_name)):\n",
    "  print('--(!)Error loading eyes cascade')\n",
    "  exit(0)\n",
    "  \n",
    "detectAndDisplay(img)"
   ]
  },
  {
   "cell_type": "code",
   "execution_count": 20,
   "metadata": {},
   "outputs": [],
   "source": [
    "cv2.waitKey(0)\n",
    "cv2.destroyAllWindows()"
   ]
  }
 ],
 "metadata": {
  "kernelspec": {
   "display_name": "Python 3",
   "language": "python",
   "name": "python3"
  },
  "language_info": {
   "codemirror_mode": {
    "name": "ipython",
    "version": 3
   },
   "file_extension": ".py",
   "mimetype": "text/x-python",
   "name": "python",
   "nbconvert_exporter": "python",
   "pygments_lexer": "ipython3",
   "version": "3.11.6"
  }
 },
 "nbformat": 4,
 "nbformat_minor": 2
}
