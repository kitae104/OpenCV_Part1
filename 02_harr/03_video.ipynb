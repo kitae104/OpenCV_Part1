{
 "cells": [
  {
   "cell_type": "code",
   "execution_count": 4,
   "metadata": {},
   "outputs": [],
   "source": [
    "import cv2\n",
    "import numpy as np\n",
    "\n",
    "# 경로를 사용할 때 절대 경로로 지정해야 함. 상대 경로로 지정하면 오류 발생할 수 있음.\n",
    "face_cascade_name = 'D:/Github/Vision_WS/OpenCV_Part1/data/haarcascades/haarcascade_frontalface_alt.xml'\n",
    "eyes_cascade_name = 'D:/Github/Vision_WS/OpenCV_Part1/data/haarcascades/haarcascade_eye_tree_eyeglasses.xml'\n",
    "file_name = 'D:/Github/Vision_WS/OpenCV_Part1/videos/tedy_01.mp4'\n",
    "\n",
    "def detectAndDisplay(frame):\n",
    "  frame_gray = cv2.cvtColor(frame, cv2.COLOR_BGR2GRAY)    # 회색으로 변환\n",
    "  frame_gray = cv2.equalizeHist(frame_gray)               # 히스토그램 평활화 \n",
    "  \n",
    "  # 얼굴 검출\n",
    "  faces = face_cascade.detectMultiScale(frame_gray)\n",
    "  for (x,y,w,h) in faces:\n",
    "    center = (x + w//2, y + h//2)                      # 얼굴 중심 좌표\n",
    "    frame = cv2.rectangle(frame, (x, y), (x+w, y+h), (0, 255, 0), 4) # 얼굴에 사각형 그리기\n",
    "    faceROI = frame_gray[y:y+h, x:x+w]                # 얼굴 영역 추출\n",
    "    \n",
    "    # 각 얼굴에서 눈 검출\n",
    "    eyes = eyes_cascade.detectMultiScale(faceROI)\n",
    "    for (x2,y2,w2,h2) in eyes:\n",
    "      eye_center = (x + x2 + w2//2, y + y2 + h2//2) # 눈 중심 좌표\n",
    "      radius = int(round((w2 + h2)*0.25))           # 눈 반지름\n",
    "      frame = cv2.circle(frame, eye_center, radius, (255, 0, 0), 4) # 눈에 원 그리기\n",
    "      \n",
    "  cv2.imshow('Capture - Face detection', frame)  # 화면에 출력\n",
    "  \n",
    "face_cascade = cv2.CascadeClassifier()\n",
    "eyes_cascade = cv2.CascadeClassifier()\n",
    "\n",
    "# cascade 파일 로딩\n",
    "if not face_cascade.load(\"D:\\Github\\Vision_WS\\OpenCV_Part1\\data\\haarcascades\\haarcascade_frontalface_alt.xml\"):\n",
    "  print('--(!) face cascade를 로딩하는 과정에서 문제가 발생하였습니다.')\n",
    "  exit(0)\n",
    "  \n",
    "if not eyes_cascade.load(\"D:\\Github\\Vision_WS\\OpenCV_Part1\\data\\haarcascades\\haarcascade_eye_tree_eyeglasses.xml\"):\n",
    "  print('--(!) eyes cascade를 로딩하는 과정에서 문제가 발생하였습니다.')\n",
    "  exit(0)\n",
    "\n",
    "# 비디오 스트림 읽어오기 \n",
    "cap = cv2.VideoCapture(file_name)     # 필요에 따라 web cam 연결해서 사용하면 됨.\n",
    "if not cap.isOpened:\n",
    "  print('--(!) 비디오를 열 수 없습니다.')\n",
    "  exit(0)\n",
    "  \n",
    "while True:\n",
    "  ret, frame = cap.read()\n",
    "  if frame is None:\n",
    "    print('--(!) 비디오에서 프레임을 가져올 수 없습니다.')\n",
    "    break\n",
    "  \n",
    "  detectAndDisplay(frame)\n",
    "  \n",
    "  if cv2.waitKey(10) == 27:     # ESC 키를 누르면 종료\n",
    "    break\n",
    "  \n",
    "cv2.destroyAllWindows()\n"
   ]
  },
  {
   "cell_type": "markdown",
   "metadata": {},
   "source": [
    "얼굴과 각 얼굴에서 눈을 검출해서 보여주는 함수 "
   ]
  },
  {
   "cell_type": "code",
   "execution_count": 2,
   "metadata": {},
   "outputs": [],
   "source": [
    "def detectAndDisplay(frame):\n",
    "  frame_gray = cv2.cvtColor(frame, cv2.COLOR_BGR2GRAY)    # 회색으로 변환\n",
    "  frame_gray = cv2.equalizeHist(frame_gray)               # 히스토그램 평활화 \n",
    "  \n",
    "  # 얼굴 검출\n",
    "  faces = face_cascade.detectMultiScale(frame_gray)\n",
    "  for (x,y,w,h) in faces:\n",
    "    center = (x + w//2, y + h//2)                      # 얼굴 중심 좌표\n",
    "    frame = cv2.rectangle(frame, (x, y), (x+w, y+h), (0, 255, 0), 4) # 얼굴에 사각형 그리기\n",
    "    faceROI = frame_gray[y:y+h, x:x+w]                # 얼굴 영역 추출\n",
    "    \n",
    "    # 각 얼굴에서 눈 검출\n",
    "    eyes = eyes_cascade.detectMultiScale(faceROI)\n",
    "    for (x2,y2,w2,h2) in eyes:\n",
    "      eye_center = (x + x2 + w2//2, y + y2 + h2//2) # 눈 중심 좌표\n",
    "      radius = int(round((w2 + h2)*0.25))           # 눈 반지름\n",
    "      frame = cv2.circle(frame, eye_center, radius, (255, 0, 0), 4) # 눈에 원 그리기\n",
    "      \n",
    "  cv2.imshow('Capture - Face detection', frame)  # 화면에 출력"
   ]
  },
  {
   "cell_type": "markdown",
   "metadata": {},
   "source": [
    "얼굴과 눈을 식별하기 위한 식별자를 만든 후 cascade를 호출하는 과정 "
   ]
  },
  {
   "cell_type": "code",
   "execution_count": 3,
   "metadata": {},
   "outputs": [
    {
     "name": "stdout",
     "output_type": "stream",
     "text": [
      "--(!) face cascade를 로딩하는 과정에서 문제가 발생하였습니다.\n",
      "--(!) eyes cascade를 로딩하는 과정에서 문제가 발생하였습니다.\n"
     ]
    },
    {
     "ename": "",
     "evalue": "",
     "output_type": "error",
     "traceback": [
      "\u001b[1;31mThe Kernel crashed while executing code in the the current cell or a previous cell. Please review the code in the cell(s) to identify a possible cause of the failure. Click <a href='https://aka.ms/vscodeJupyterKernelCrash'>here</a> for more info. View Jupyter <a href='command:jupyter.viewOutput'>log</a> for further details."
     ]
    }
   ],
   "source": [
    "face_cascade = cv2.CascadeClassifier()\n",
    "eyes_cascade = cv2.CascadeClassifier()\n",
    "\n",
    "if not face_cascade.load(cv2.samples.findFile(face_cascade_name)):\n",
    "  print('--(!) face cascade를 로딩하는 과정에서 문제가 발생하였습니다.')\n",
    "  exit(0)\n",
    "  \n",
    "if not eyes_cascade.load(cv2.samples.findFile(eyes_cascade_name)):\n",
    "  print('--(!) eyes cascade를 로딩하는 과정에서 문제가 발생하였습니다.')\n",
    "  exit(0)"
   ]
  },
  {
   "cell_type": "markdown",
   "metadata": {},
   "source": [
    "비디오 스트림 읽어오기 "
   ]
  },
  {
   "cell_type": "code",
   "execution_count": 5,
   "metadata": {},
   "outputs": [
    {
     "name": "stdout",
     "output_type": "stream",
     "text": [
      "--(!) 비디오에서 프레임을 가져올 수 없습니다.\n"
     ]
    }
   ],
   "source": [
    "cap = cv2.VideoCapture(file_name)     # 필요에 따라 web cam 연결해서 사용하면 됨.\n",
    "if not cap.isOpened:\n",
    "  print('--(!) 비디오를 열 수 없습니다.')\n",
    "  exit(0)\n",
    "  \n",
    "while True:\n",
    "  ret, frame = cap.read()\n",
    "  if frame is None:\n",
    "    print('--(!) 비디오에서 프레임을 가져올 수 없습니다.')\n",
    "    break\n",
    "  detectAndDisplay(frame)\n",
    "  \n",
    "  if cv2.waitKey(10) == 27:     # ESC 키를 누르면 종료\n",
    "    break\n",
    "  \n",
    "cv2.destroyAllWindows()"
   ]
  }
 ],
 "metadata": {
  "kernelspec": {
   "display_name": "Python 3",
   "language": "python",
   "name": "python3"
  },
  "language_info": {
   "codemirror_mode": {
    "name": "ipython",
    "version": 3
   },
   "file_extension": ".py",
   "mimetype": "text/x-python",
   "name": "python",
   "nbconvert_exporter": "python",
   "pygments_lexer": "ipython3",
   "version": "3.11.6"
  }
 },
 "nbformat": 4,
 "nbformat_minor": 2
}
