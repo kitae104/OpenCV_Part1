{
 "cells": [
  {
   "cell_type": "code",
   "execution_count": 1,
   "metadata": {},
   "outputs": [],
   "source": [
    "import numpy as np\n",
    "import cv2\n",
    "import time\n",
    "from tkinter import *                       # GUI를 위한 라이브러리\n",
    "from PIL import Image\n",
    "from PIL import ImageTk\n",
    "from tkinter import filedialog\n",
    "import tkinter.scrolledtext as tkst"
   ]
  },
  {
   "cell_type": "markdown",
   "metadata": {},
   "source": [
    "caffemodel 사용"
   ]
  },
  {
   "cell_type": "code",
   "execution_count": 2,
   "metadata": {},
   "outputs": [],
   "source": [
    "face_model = 'E:\\Github\\Vision_WS\\OpenCV_Part1\\model\\dnn\\res10_300x300_ssd_iter_140000.caffemodel'                    # 얼굴 검출 모델\n",
    "face_prototxt = 'E:\\Github\\Vision_WS\\OpenCV_Part1\\model\\dnn\\deploy.prototxt.txt'                                      # 얼굴 검출 모델(메타 정보)\n",
    "age_model = 'E:\\Github\\Vision_WS\\OpenCV_Part1\\model\\dnn/age_net.caffemodel'             # 나이 검출 모델\n",
    "age_prototxt = 'E:\\Github\\Vision_WS\\OpenCV_Part1\\model\\dnn/deploy_age.prototxt'         # 나이 검출 모델(메타 정보)\n",
    "gender_model = 'E:\\Github\\Vision_WS\\OpenCV_Part1\\model\\dnn/gender_net.caffemodel'       # 성별 검출 모델\n",
    "gender_prototxt = 'E:\\Github\\Vision_WS\\OpenCV_Part1\\model\\dnn/deploy_gender.prototxt'   # 성별 검출 모델(메타 정보)\n",
    "image_file = 'E:/Github/Vision_WS/OpenCV_Part1/images/son-align/1.jpg'                  # 이미지 파일"
   ]
  },
  {
   "cell_type": "code",
   "execution_count": 3,
   "metadata": {},
   "outputs": [],
   "source": [
    "age_list = ['(0-2)', '(4-6)', '(8-12)', '(15-20)', '(25-32)', '(38-43)', '(48-53)', '(60-100)'] # 나이 리스트 \n",
    "gender_list = ['Male','Female'] # 성별 리스트"
   ]
  },
  {
   "cell_type": "code",
   "execution_count": 4,
   "metadata": {},
   "outputs": [],
   "source": [
    "title_name = 'Age and Gender Recognition'   # 윈도우 타이틀 이름\n",
    "min_confidence = 0.5                        # 최소 확률 값  \n",
    "min_likeness = 0.5                          # 최소 유사도 값\n",
    "frame_count = 0                             # 프레임 카운트\n",
    "recognition_count = 0                       # 인식 카운트\n",
    "elapsed_time = 0                            # 경과 시간\n",
    "OUTPUT_SIZE = (300, 300)                    # 출력 크기"
   ]
  },
  {
   "cell_type": "markdown",
   "metadata": {},
   "source": [
    "디텍터 3종 만들기"
   ]
  },
  {
   "cell_type": "code",
   "execution_count": 5,
   "metadata": {},
   "outputs": [
    {
     "ename": "error",
     "evalue": "OpenCV(4.8.0) D:\\a\\opencv-python\\opencv-python\\opencv\\modules\\dnn\\src\\caffe\\caffe_io.cpp:1138: error: (-2:Unspecified error) FAILED: fs.is_open(). Can't open \"E:\\Github\\Vision_WS\\OpenCV_Part1\\model\\dnn\res10_300x300_ssd_iter_140000.caffemodel\" in function 'cv::dnn::ReadProtoFromBinaryFile'\n",
     "output_type": "error",
     "traceback": [
      "\u001b[1;31m---------------------------------------------------------------------------\u001b[0m",
      "\u001b[1;31merror\u001b[0m                                     Traceback (most recent call last)",
      "Cell \u001b[1;32mIn [5], line 1\u001b[0m\n\u001b[1;32m----> 1\u001b[0m detector \u001b[38;5;241m=\u001b[39m \u001b[43mcv2\u001b[49m\u001b[38;5;241;43m.\u001b[39;49m\u001b[43mdnn\u001b[49m\u001b[38;5;241;43m.\u001b[39;49m\u001b[43mreadNetFromCaffe\u001b[49m\u001b[43m(\u001b[49m\u001b[43mface_prototxt\u001b[49m\u001b[43m,\u001b[49m\u001b[43m \u001b[49m\u001b[43mface_model\u001b[49m\u001b[43m)\u001b[49m              \u001b[38;5;66;03m# 얼굴 검출 모델 로딩\u001b[39;00m\n\u001b[0;32m      2\u001b[0m age_detector \u001b[38;5;241m=\u001b[39m cv2\u001b[38;5;241m.\u001b[39mdnn\u001b[38;5;241m.\u001b[39mreadNetFromCaffe(age_prototxt, age_model)            \u001b[38;5;66;03m# 나이 검출 모델 로딩\u001b[39;00m\n\u001b[0;32m      3\u001b[0m gender_detector \u001b[38;5;241m=\u001b[39m cv2\u001b[38;5;241m.\u001b[39mdnn\u001b[38;5;241m.\u001b[39mreadNetFromCaffe(gender_prototxt, gender_model)   \u001b[38;5;66;03m# 성별 검출 모델 로딩\u001b[39;00m\n",
      "\u001b[1;31merror\u001b[0m: OpenCV(4.8.0) D:\\a\\opencv-python\\opencv-python\\opencv\\modules\\dnn\\src\\caffe\\caffe_io.cpp:1138: error: (-2:Unspecified error) FAILED: fs.is_open(). Can't open \"E:\\Github\\Vision_WS\\OpenCV_Part1\\model\\dnn\res10_300x300_ssd_iter_140000.caffemodel\" in function 'cv::dnn::ReadProtoFromBinaryFile'\n"
     ]
    }
   ],
   "source": [
    "detector = cv2.dnn.readNetFromCaffe(face_prototxt, face_model)              # 얼굴 검출 모델 로딩\n",
    "age_detector = cv2.dnn.readNetFromCaffe(age_prototxt, age_model)            # 나이 검출 모델 로딩\n",
    "gender_detector = cv2.dnn.readNetFromCaffe(gender_prototxt, gender_model)   # 성별 검출 모델 로딩"
   ]
  },
  {
   "cell_type": "code",
   "execution_count": 32,
   "metadata": {},
   "outputs": [],
   "source": [
    "# 파일 선택 함수\n",
    "def selectFile():\n",
    "    file_name =  filedialog.askopenfilename(initialdir = \"./images\",title = \"Select file\",filetypes = ((\"jpeg files\",\"*.jpg\"),(\"all files\",\"*.*\")))\n",
    "    print('File name : ', file_name)\n",
    "    read_image = cv2.imread(file_name)      # 이미지 파일 읽기\n",
    "    image = cv2.cvtColor(read_image, cv2.COLOR_BGR2RGB) # BGR을 RGB로 변환\n",
    "    image = Image.fromarray(image)          # 이미지 객체 생성\n",
    "    imgtk = ImageTk.PhotoImage(image=image)  # 이미지 객체를 표시하기 위한 객체 생성\n",
    "    (height, width) = read_image.shape[:2]  # 이미지 크기\n",
    "    fileLabel['text'] = file_name           # 파일 이름 표시\n",
    "    detectAndDisplay(read_image)            # 얼굴 검출 및 나이, 성별 인식\n"
   ]
  },
  {
   "cell_type": "code",
   "execution_count": 31,
   "metadata": {},
   "outputs": [],
   "source": [
    "# 얼굴 인식 함수\n",
    "def detectAndDisplay(read_image):\n",
    "    pass"
   ]
  },
  {
   "cell_type": "code",
   "execution_count": 34,
   "metadata": {},
   "outputs": [
    {
     "ename": "TclError",
     "evalue": "image \"pyimage13\" doesn't exist",
     "output_type": "error",
     "traceback": [
      "\u001b[1;31m---------------------------------------------------------------------------\u001b[0m",
      "\u001b[1;31mTclError\u001b[0m                                  Traceback (most recent call last)",
      "Cell \u001b[1;32mIn[34], line 22\u001b[0m\n\u001b[0;32m     18\u001b[0m fileLabel\u001b[38;5;241m.\u001b[39mgrid(row\u001b[38;5;241m=\u001b[39m\u001b[38;5;241m1\u001b[39m, column\u001b[38;5;241m=\u001b[39m\u001b[38;5;241m0\u001b[39m, columnspan\u001b[38;5;241m=\u001b[39m\u001b[38;5;241m2\u001b[39m)   \u001b[38;5;66;03m# 파일 라벨 위치\u001b[39;00m\n\u001b[0;32m     20\u001b[0m Button(main,text\u001b[38;5;241m=\u001b[39m\u001b[38;5;124m\"\u001b[39m\u001b[38;5;124mFile Select\u001b[39m\u001b[38;5;124m\"\u001b[39m, height\u001b[38;5;241m=\u001b[39m\u001b[38;5;241m2\u001b[39m,command\u001b[38;5;241m=\u001b[39m\u001b[38;5;28;01mlambda\u001b[39;00m:selectFile())\u001b[38;5;241m.\u001b[39mgrid(row\u001b[38;5;241m=\u001b[39m\u001b[38;5;241m1\u001b[39m, column\u001b[38;5;241m=\u001b[39m\u001b[38;5;241m2\u001b[39m, columnspan\u001b[38;5;241m=\u001b[39m\u001b[38;5;241m2\u001b[39m, sticky\u001b[38;5;241m=\u001b[39m(N, S, W, E))\n\u001b[1;32m---> 22\u001b[0m detection\u001b[38;5;241m=\u001b[39m\u001b[43mLabel\u001b[49m\u001b[43m(\u001b[49m\u001b[43mmain\u001b[49m\u001b[43m,\u001b[49m\u001b[43m \u001b[49m\u001b[43mimage\u001b[49m\u001b[38;5;241;43m=\u001b[39;49m\u001b[43mimgtk\u001b[49m\u001b[43m)\u001b[49m              \u001b[38;5;66;03m# 이미지 라벨 생성\u001b[39;00m\n\u001b[0;32m     23\u001b[0m detection\u001b[38;5;241m.\u001b[39mgrid(row\u001b[38;5;241m=\u001b[39m\u001b[38;5;241m2\u001b[39m,column\u001b[38;5;241m=\u001b[39m\u001b[38;5;241m0\u001b[39m,columnspan\u001b[38;5;241m=\u001b[39m\u001b[38;5;241m4\u001b[39m)     \u001b[38;5;66;03m# 이미지 라벨 위치\u001b[39;00m\n\u001b[0;32m     25\u001b[0m log_ScrolledText \u001b[38;5;241m=\u001b[39m tkst\u001b[38;5;241m.\u001b[39mScrolledText(main, height\u001b[38;5;241m=\u001b[39m\u001b[38;5;241m20\u001b[39m) \u001b[38;5;66;03m# 스크롤 텍스트 생성\u001b[39;00m\n",
      "File \u001b[1;32mc:\\Python\\311\\Lib\\tkinter\\__init__.py:3214\u001b[0m, in \u001b[0;36mLabel.__init__\u001b[1;34m(self, master, cnf, **kw)\u001b[0m\n\u001b[0;32m   3196\u001b[0m \u001b[38;5;28;01mdef\u001b[39;00m \u001b[38;5;21m__init__\u001b[39m(\u001b[38;5;28mself\u001b[39m, master\u001b[38;5;241m=\u001b[39m\u001b[38;5;28;01mNone\u001b[39;00m, cnf\u001b[38;5;241m=\u001b[39m{}, \u001b[38;5;241m*\u001b[39m\u001b[38;5;241m*\u001b[39mkw):\n\u001b[0;32m   3197\u001b[0m \u001b[38;5;250m    \u001b[39m\u001b[38;5;124;03m\"\"\"Construct a label widget with the parent MASTER.\u001b[39;00m\n\u001b[0;32m   3198\u001b[0m \n\u001b[0;32m   3199\u001b[0m \u001b[38;5;124;03m    STANDARD OPTIONS\u001b[39;00m\n\u001b[1;32m   (...)\u001b[0m\n\u001b[0;32m   3212\u001b[0m \n\u001b[0;32m   3213\u001b[0m \u001b[38;5;124;03m    \"\"\"\u001b[39;00m\n\u001b[1;32m-> 3214\u001b[0m     \u001b[43mWidget\u001b[49m\u001b[38;5;241;43m.\u001b[39;49m\u001b[38;5;21;43m__init__\u001b[39;49m\u001b[43m(\u001b[49m\u001b[38;5;28;43mself\u001b[39;49m\u001b[43m,\u001b[49m\u001b[43m \u001b[49m\u001b[43mmaster\u001b[49m\u001b[43m,\u001b[49m\u001b[43m \u001b[49m\u001b[38;5;124;43m'\u001b[39;49m\u001b[38;5;124;43mlabel\u001b[39;49m\u001b[38;5;124;43m'\u001b[39;49m\u001b[43m,\u001b[49m\u001b[43m \u001b[49m\u001b[43mcnf\u001b[49m\u001b[43m,\u001b[49m\u001b[43m \u001b[49m\u001b[43mkw\u001b[49m\u001b[43m)\u001b[49m\n",
      "File \u001b[1;32mc:\\Python\\311\\Lib\\tkinter\\__init__.py:2628\u001b[0m, in \u001b[0;36mBaseWidget.__init__\u001b[1;34m(self, master, widgetName, cnf, kw, extra)\u001b[0m\n\u001b[0;32m   2626\u001b[0m \u001b[38;5;28;01mfor\u001b[39;00m k, v \u001b[38;5;129;01min\u001b[39;00m classes:\n\u001b[0;32m   2627\u001b[0m     \u001b[38;5;28;01mdel\u001b[39;00m cnf[k]\n\u001b[1;32m-> 2628\u001b[0m \u001b[38;5;28;43mself\u001b[39;49m\u001b[38;5;241;43m.\u001b[39;49m\u001b[43mtk\u001b[49m\u001b[38;5;241;43m.\u001b[39;49m\u001b[43mcall\u001b[49m\u001b[43m(\u001b[49m\n\u001b[0;32m   2629\u001b[0m \u001b[43m    \u001b[49m\u001b[43m(\u001b[49m\u001b[43mwidgetName\u001b[49m\u001b[43m,\u001b[49m\u001b[43m \u001b[49m\u001b[38;5;28;43mself\u001b[39;49m\u001b[38;5;241;43m.\u001b[39;49m\u001b[43m_w\u001b[49m\u001b[43m)\u001b[49m\u001b[43m \u001b[49m\u001b[38;5;241;43m+\u001b[39;49m\u001b[43m \u001b[49m\u001b[43mextra\u001b[49m\u001b[43m \u001b[49m\u001b[38;5;241;43m+\u001b[39;49m\u001b[43m \u001b[49m\u001b[38;5;28;43mself\u001b[39;49m\u001b[38;5;241;43m.\u001b[39;49m\u001b[43m_options\u001b[49m\u001b[43m(\u001b[49m\u001b[43mcnf\u001b[49m\u001b[43m)\u001b[49m\u001b[43m)\u001b[49m\n\u001b[0;32m   2630\u001b[0m \u001b[38;5;28;01mfor\u001b[39;00m k, v \u001b[38;5;129;01min\u001b[39;00m classes:\n\u001b[0;32m   2631\u001b[0m     k\u001b[38;5;241m.\u001b[39mconfigure(\u001b[38;5;28mself\u001b[39m, v)\n",
      "\u001b[1;31mTclError\u001b[0m: image \"pyimage13\" doesn't exist"
     ]
    }
   ],
   "source": [
    "# main 부분 \n",
    "main = Tk()                         # Tk 객체 인스턴스 생성\n",
    "main.title(title_name)              # 윈도우 타이틀 이름 설정\n",
    "main.geometry()                     # 윈도우 크기 설정\n",
    "\n",
    "# 입력 이미지를 로드하고 BGR에서 RGB로 변환\n",
    "read_image = cv2.imread(image_file)         # 이미지 파일 읽기\n",
    "(height, width) = read_image.shape[:2]      # 이미지 크기\n",
    "image = cv2.cvtColor(read_image, cv2.COLOR_BGR2RGB) # BGR을 RGB로 변환\n",
    "image = Image.fromarray(image)              # 이미지 객체 생성\n",
    "imgtk = ImageTk.PhotoImage(image=image)     # 이미지 객체를 표시하기 위한 객체 생성\n",
    "\n",
    "label = Label(main, text=title_name)        # 라벨 생성\n",
    "label.config(font=(\"Courier\", 18))          # 라벨 설정\n",
    "label.grid(row=0, column=0, columnspan=4)   # 라벨 위치\n",
    "\n",
    "fileLabel = Label(main, text=image_file)        # 파일 라벨 생성\n",
    "fileLabel.grid(row=1, column=0, columnspan=2)   # 파일 라벨 위치\n",
    "\n",
    "Button(main,text=\"File Select\", height=2,command=lambda:selectFile()).grid(row=1, column=2, columnspan=2, sticky=(N, S, W, E))\n",
    "\n",
    "detection=Label(main, image=imgtk)              # 이미지 라벨 생성\n",
    "detection.grid(row=2,column=0,columnspan=4)     # 이미지 라벨 위치\n",
    "\n",
    "log_ScrolledText = tkst.ScrolledText(main, height=20) # 스크롤 텍스트 생성\n",
    "log_ScrolledText.grid(row=3,column=0,columnspan=4, sticky=(N, S, W, E)) # 스크롤 텍스트 위치\n",
    "log_ScrolledText.configure(font='TkFixedFont') # 스크롤 텍스트 설정\n",
    "\n",
    "log_ScrolledText.tag_config('HEADER', foreground='gray', font=(\"Helvetica\", 14)) # 스크롤 텍스트 태그 설정\n",
    "log_ScrolledText.tag_config('TITLE', foreground='orange', font=(\"Helvetica\", 18), underline=1, justify='center') # 스크롤 텍스트 태그 설정\n",
    "\n",
    "detectAndDisplay(read_image)\n",
    "\n",
    "main.mainloop()                     # GUI 시작"
   ]
  }
 ],
 "metadata": {
  "kernelspec": {
   "display_name": "Python 3",
   "language": "python",
   "name": "python3"
  },
  "language_info": {
   "codemirror_mode": {
    "name": "ipython",
    "version": 3
   },
   "file_extension": ".py",
   "mimetype": "text/x-python",
   "name": "python",
   "nbconvert_exporter": "python",
   "pygments_lexer": "ipython3",
   "version": "3.11.6"
  }
 },
 "nbformat": 4,
 "nbformat_minor": 2
}
